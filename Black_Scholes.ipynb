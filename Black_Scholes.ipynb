{
  "nbformat": 4,
  "nbformat_minor": 0,
  "metadata": {
    "colab": {
      "provenance": [],
      "authorship_tag": "ABX9TyMBkLBqHnVcpkND3sAYnuLL",
      "include_colab_link": true
    },
    "kernelspec": {
      "name": "python3",
      "display_name": "Python 3"
    },
    "language_info": {
      "name": "python"
    }
  },
  "cells": [
    {
      "cell_type": "markdown",
      "metadata": {
        "id": "view-in-github",
        "colab_type": "text"
      },
      "source": [
        "<a href=\"https://colab.research.google.com/github/S-EnS/Black-Scholes-Option-Pricing/blob/main/Black_Scholes.ipynb\" target=\"_parent\"><img src=\"https://colab.research.google.com/assets/colab-badge.svg\" alt=\"Open In Colab\"/></a>"
      ]
    },
    {
      "cell_type": "code",
      "execution_count": 12,
      "metadata": {
        "id": "TscvXXVRVUKz"
      },
      "outputs": [],
      "source": [
        "import math\n",
        "from scipy.stats import norm"
      ]
    },
    {
      "cell_type": "code",
      "source": [
        "#Define the variables\n",
        "S = 45 # Underlying price\n",
        "K = 40 # Strike Price\n",
        "T = 2 # Time to Experiation\n",
        "r = 0.1 # Risk-Free Rate\n",
        "vol = 0.1 # Volatility"
      ],
      "metadata": {
        "id": "K6vJXRyhV_Oz"
      },
      "execution_count": 13,
      "outputs": []
    },
    {
      "cell_type": "code",
      "source": [
        "d1 = (math.log(S/K) + (r + 0.5 * vol ** 2)* T)/(vol * math.sqrt(T))"
      ],
      "metadata": {
        "id": "aa0UjXoUXhI8"
      },
      "execution_count": 14,
      "outputs": []
    },
    {
      "cell_type": "code",
      "source": [
        "d2 = d1 - (vol * math.sqrt(T))"
      ],
      "metadata": {
        "id": "JYp5QsOKYA6a"
      },
      "execution_count": 15,
      "outputs": []
    },
    {
      "cell_type": "code",
      "source": [
        "C = (S * norm.cdf(d1)) - K * math.exp(-r * T) * norm.cdf(d2)"
      ],
      "metadata": {
        "id": "l834k3s2YJGp"
      },
      "execution_count": 16,
      "outputs": []
    },
    {
      "cell_type": "code",
      "source": [
        "P = K * math.exp(-r * T) * norm.cdf(-d2) - (S * norm.cdf(-d1))"
      ],
      "metadata": {
        "id": "Yk6dEvfkY4jl"
      },
      "execution_count": 17,
      "outputs": []
    },
    {
      "cell_type": "code",
      "source": [
        "print ('The value of d1 is : ' , round(d1, 4))\n",
        "print ('The value of d2 is : ' , round(d2, 4))\n",
        "print ('The value of d1 is : ' , round(d1, 4))\n",
        "print ('The price of the call option is : $' , round(C, 2))\n",
        "print ('The price of the put option is : $' , round(P, 2))"
      ],
      "metadata": {
        "colab": {
          "base_uri": "https://localhost:8080/"
        },
        "id": "VPfH9c7WZM0c",
        "outputId": "017986e0-fa0e-4293-e302-1a304e1dc262"
      },
      "execution_count": 18,
      "outputs": [
        {
          "output_type": "stream",
          "name": "stdout",
          "text": [
            "The value of d1 is :  2.3178\n",
            "The value of d2 is :  2.1764\n",
            "The value of d1 is :  2.3178\n",
            "The price of the call option is : $ 12.27\n",
            "The price of the put option is : $ 0.02\n"
          ]
        }
      ]
    }
  ]
}